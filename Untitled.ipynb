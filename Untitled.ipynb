{
 "cells": [
  {
   "cell_type": "code",
   "execution_count": null,
   "metadata": {},
   "outputs": [],
   "source": [
    "class Car:\n",
    "    def __init__(self):\n",
    "        ### Do nothing\n",
    "    def predict_state(state, dt):\n",
    "        \"\"\"\n",
    "        Args: Velocity-\n",
    "        \"\"\"\n",
    "        next_state = speed*dt\n",
    "        return next_state\n",
    "    \n",
    "    def predict_state(initial_speed, acceleration, dt):\n",
    "        state = (initial_speed*dt) + (acceleration*pow(dt,2))\n",
    "        return state\n",
    "    \n",
    "    \n",
    "    "
   ]
  }
 ],
 "metadata": {
  "kernelspec": {
   "display_name": "deepdive",
   "language": "python",
   "name": "deepdive"
  },
  "language_info": {
   "codemirror_mode": {
    "name": "ipython",
    "version": 3
   },
   "file_extension": ".py",
   "mimetype": "text/x-python",
   "name": "python",
   "nbconvert_exporter": "python",
   "pygments_lexer": "ipython3",
   "version": "3.7.3"
  }
 },
 "nbformat": 4,
 "nbformat_minor": 2
}
